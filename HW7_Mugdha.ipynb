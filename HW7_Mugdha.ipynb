{
 "cells": [
  {
   "cell_type": "markdown",
   "metadata": {},
   "source": [
    "# CPSC6300-001 Applied Data Science - HW7 ¶\n",
    "\n"
   ]
  },
  {
   "cell_type": "markdown",
   "metadata": {},
   "source": [
    "# Part C. Preparing Data for Machine Learning (60 points)"
   ]
  },
  {
   "cell_type": "code",
   "execution_count": 42,
   "metadata": {},
   "outputs": [],
   "source": [
    "%matplotlib inline\n",
    "\n",
    "import numpy as np\n",
    "import pandas as pd\n",
    "import matplotlib.pyplot as plt\n",
    "import matplotlib as mpt\n",
    "import seaborn as sns\n",
    "import math\n",
    "housing = pd.read_csv(\"housing.csv\")"
   ]
  },
  {
   "cell_type": "code",
   "execution_count": 43,
   "metadata": {},
   "outputs": [],
   "source": [
    "from IPython.core.interactiveshell import InteractiveShell\n",
    "InteractiveShell.ast_node_interactivity = \"all\"\n",
    "%matplotlib inline"
   ]
  },
  {
   "cell_type": "code",
   "execution_count": 44,
   "metadata": {},
   "outputs": [
    {
     "data": {
      "text/html": [
       "<div>\n",
       "<style scoped>\n",
       "    .dataframe tbody tr th:only-of-type {\n",
       "        vertical-align: middle;\n",
       "    }\n",
       "\n",
       "    .dataframe tbody tr th {\n",
       "        vertical-align: top;\n",
       "    }\n",
       "\n",
       "    .dataframe thead th {\n",
       "        text-align: right;\n",
       "    }\n",
       "</style>\n",
       "<table border=\"1\" class=\"dataframe\">\n",
       "  <thead>\n",
       "    <tr style=\"text-align: right;\">\n",
       "      <th></th>\n",
       "      <th>longitude</th>\n",
       "      <th>latitude</th>\n",
       "      <th>housing_median_age</th>\n",
       "      <th>total_rooms</th>\n",
       "      <th>total_bedrooms</th>\n",
       "      <th>population</th>\n",
       "      <th>households</th>\n",
       "      <th>median_income</th>\n",
       "      <th>median_house_value</th>\n",
       "      <th>ocean_proximity</th>\n",
       "    </tr>\n",
       "  </thead>\n",
       "  <tbody>\n",
       "    <tr>\n",
       "      <th>0</th>\n",
       "      <td>-122.23</td>\n",
       "      <td>37.88</td>\n",
       "      <td>41.0</td>\n",
       "      <td>880.0</td>\n",
       "      <td>129.0</td>\n",
       "      <td>322.0</td>\n",
       "      <td>126.0</td>\n",
       "      <td>8.3252</td>\n",
       "      <td>452600.0</td>\n",
       "      <td>NEAR BAY</td>\n",
       "    </tr>\n",
       "    <tr>\n",
       "      <th>1</th>\n",
       "      <td>-122.22</td>\n",
       "      <td>37.86</td>\n",
       "      <td>21.0</td>\n",
       "      <td>7099.0</td>\n",
       "      <td>1106.0</td>\n",
       "      <td>2401.0</td>\n",
       "      <td>1138.0</td>\n",
       "      <td>8.3014</td>\n",
       "      <td>358500.0</td>\n",
       "      <td>NEAR BAY</td>\n",
       "    </tr>\n",
       "    <tr>\n",
       "      <th>2</th>\n",
       "      <td>-122.24</td>\n",
       "      <td>37.85</td>\n",
       "      <td>52.0</td>\n",
       "      <td>1467.0</td>\n",
       "      <td>190.0</td>\n",
       "      <td>496.0</td>\n",
       "      <td>177.0</td>\n",
       "      <td>7.2574</td>\n",
       "      <td>352100.0</td>\n",
       "      <td>NEAR BAY</td>\n",
       "    </tr>\n",
       "    <tr>\n",
       "      <th>3</th>\n",
       "      <td>-122.25</td>\n",
       "      <td>37.85</td>\n",
       "      <td>52.0</td>\n",
       "      <td>1274.0</td>\n",
       "      <td>235.0</td>\n",
       "      <td>558.0</td>\n",
       "      <td>219.0</td>\n",
       "      <td>5.6431</td>\n",
       "      <td>341300.0</td>\n",
       "      <td>NEAR BAY</td>\n",
       "    </tr>\n",
       "    <tr>\n",
       "      <th>4</th>\n",
       "      <td>-122.25</td>\n",
       "      <td>37.85</td>\n",
       "      <td>52.0</td>\n",
       "      <td>1627.0</td>\n",
       "      <td>280.0</td>\n",
       "      <td>565.0</td>\n",
       "      <td>259.0</td>\n",
       "      <td>3.8462</td>\n",
       "      <td>342200.0</td>\n",
       "      <td>NEAR BAY</td>\n",
       "    </tr>\n",
       "  </tbody>\n",
       "</table>\n",
       "</div>"
      ],
      "text/plain": [
       "   longitude  latitude  housing_median_age  total_rooms  total_bedrooms  \\\n",
       "0    -122.23     37.88                41.0        880.0           129.0   \n",
       "1    -122.22     37.86                21.0       7099.0          1106.0   \n",
       "2    -122.24     37.85                52.0       1467.0           190.0   \n",
       "3    -122.25     37.85                52.0       1274.0           235.0   \n",
       "4    -122.25     37.85                52.0       1627.0           280.0   \n",
       "\n",
       "   population  households  median_income  median_house_value ocean_proximity  \n",
       "0       322.0       126.0         8.3252            452600.0        NEAR BAY  \n",
       "1      2401.0      1138.0         8.3014            358500.0        NEAR BAY  \n",
       "2       496.0       177.0         7.2574            352100.0        NEAR BAY  \n",
       "3       558.0       219.0         5.6431            341300.0        NEAR BAY  \n",
       "4       565.0       259.0         3.8462            342200.0        NEAR BAY  "
      ]
     },
     "execution_count": 44,
     "metadata": {},
     "output_type": "execute_result"
    }
   ],
   "source": [
    "housing.head()"
   ]
  },
  {
   "cell_type": "markdown",
   "metadata": {},
   "source": [
    "## 1. Creat a Test Dataset (12 points)\n",
    "\n",
    "a. Use the __train_test_split()__ method in the library __sklearn.model_selection__ to split the __housing__ data into a __train_data__ and __test_data__. Set the test_size to 0.33 and random_state to 25."
   ]
  },
  {
   "cell_type": "code",
   "execution_count": 45,
   "metadata": {
    "nbgrader": {
     "grade": true,
     "grade_id": "cell-37e0ce13563401e1",
     "locked": false,
     "points": 2,
     "schema_version": 3,
     "solution": true,
     "task": false
    }
   },
   "outputs": [
    {
     "data": {
      "text/plain": [
       "(13828, 10)"
      ]
     },
     "execution_count": 45,
     "metadata": {},
     "output_type": "execute_result"
    },
    {
     "data": {
      "text/html": [
       "<div>\n",
       "<style scoped>\n",
       "    .dataframe tbody tr th:only-of-type {\n",
       "        vertical-align: middle;\n",
       "    }\n",
       "\n",
       "    .dataframe tbody tr th {\n",
       "        vertical-align: top;\n",
       "    }\n",
       "\n",
       "    .dataframe thead th {\n",
       "        text-align: right;\n",
       "    }\n",
       "</style>\n",
       "<table border=\"1\" class=\"dataframe\">\n",
       "  <thead>\n",
       "    <tr style=\"text-align: right;\">\n",
       "      <th></th>\n",
       "      <th>longitude</th>\n",
       "      <th>latitude</th>\n",
       "      <th>housing_median_age</th>\n",
       "      <th>total_rooms</th>\n",
       "      <th>total_bedrooms</th>\n",
       "      <th>population</th>\n",
       "      <th>households</th>\n",
       "      <th>median_income</th>\n",
       "      <th>median_house_value</th>\n",
       "      <th>ocean_proximity</th>\n",
       "    </tr>\n",
       "  </thead>\n",
       "  <tbody>\n",
       "    <tr>\n",
       "      <th>7390</th>\n",
       "      <td>-118.24</td>\n",
       "      <td>33.96</td>\n",
       "      <td>34.0</td>\n",
       "      <td>1724.0</td>\n",
       "      <td>432.0</td>\n",
       "      <td>1876.0</td>\n",
       "      <td>416.0</td>\n",
       "      <td>2.1078</td>\n",
       "      <td>100600.0</td>\n",
       "      <td>&lt;1H OCEAN</td>\n",
       "    </tr>\n",
       "    <tr>\n",
       "      <th>15720</th>\n",
       "      <td>-122.45</td>\n",
       "      <td>37.78</td>\n",
       "      <td>52.0</td>\n",
       "      <td>1345.0</td>\n",
       "      <td>291.0</td>\n",
       "      <td>560.0</td>\n",
       "      <td>294.0</td>\n",
       "      <td>3.7159</td>\n",
       "      <td>494400.0</td>\n",
       "      <td>NEAR BAY</td>\n",
       "    </tr>\n",
       "    <tr>\n",
       "      <th>10285</th>\n",
       "      <td>-117.84</td>\n",
       "      <td>33.90</td>\n",
       "      <td>24.0</td>\n",
       "      <td>1723.0</td>\n",
       "      <td>223.0</td>\n",
       "      <td>707.0</td>\n",
       "      <td>219.0</td>\n",
       "      <td>7.0352</td>\n",
       "      <td>299600.0</td>\n",
       "      <td>&lt;1H OCEAN</td>\n",
       "    </tr>\n",
       "    <tr>\n",
       "      <th>5335</th>\n",
       "      <td>-118.46</td>\n",
       "      <td>34.04</td>\n",
       "      <td>25.0</td>\n",
       "      <td>2768.0</td>\n",
       "      <td>850.0</td>\n",
       "      <td>1558.0</td>\n",
       "      <td>784.0</td>\n",
       "      <td>3.6976</td>\n",
       "      <td>360000.0</td>\n",
       "      <td>&lt;1H OCEAN</td>\n",
       "    </tr>\n",
       "    <tr>\n",
       "      <th>12074</th>\n",
       "      <td>-117.60</td>\n",
       "      <td>33.87</td>\n",
       "      <td>18.0</td>\n",
       "      <td>6450.0</td>\n",
       "      <td>1165.0</td>\n",
       "      <td>3716.0</td>\n",
       "      <td>1113.0</td>\n",
       "      <td>4.2721</td>\n",
       "      <td>150300.0</td>\n",
       "      <td>INLAND</td>\n",
       "    </tr>\n",
       "  </tbody>\n",
       "</table>\n",
       "</div>"
      ],
      "text/plain": [
       "       longitude  latitude  housing_median_age  total_rooms  total_bedrooms  \\\n",
       "7390     -118.24     33.96                34.0       1724.0           432.0   \n",
       "15720    -122.45     37.78                52.0       1345.0           291.0   \n",
       "10285    -117.84     33.90                24.0       1723.0           223.0   \n",
       "5335     -118.46     34.04                25.0       2768.0           850.0   \n",
       "12074    -117.60     33.87                18.0       6450.0          1165.0   \n",
       "\n",
       "       population  households  median_income  median_house_value  \\\n",
       "7390       1876.0       416.0         2.1078            100600.0   \n",
       "15720       560.0       294.0         3.7159            494400.0   \n",
       "10285       707.0       219.0         7.0352            299600.0   \n",
       "5335       1558.0       784.0         3.6976            360000.0   \n",
       "12074      3716.0      1113.0         4.2721            150300.0   \n",
       "\n",
       "      ocean_proximity  \n",
       "7390        <1H OCEAN  \n",
       "15720        NEAR BAY  \n",
       "10285       <1H OCEAN  \n",
       "5335        <1H OCEAN  \n",
       "12074          INLAND  "
      ]
     },
     "execution_count": 45,
     "metadata": {},
     "output_type": "execute_result"
    },
    {
     "data": {
      "text/plain": [
       "(6812, 10)"
      ]
     },
     "execution_count": 45,
     "metadata": {},
     "output_type": "execute_result"
    },
    {
     "data": {
      "text/html": [
       "<div>\n",
       "<style scoped>\n",
       "    .dataframe tbody tr th:only-of-type {\n",
       "        vertical-align: middle;\n",
       "    }\n",
       "\n",
       "    .dataframe tbody tr th {\n",
       "        vertical-align: top;\n",
       "    }\n",
       "\n",
       "    .dataframe thead th {\n",
       "        text-align: right;\n",
       "    }\n",
       "</style>\n",
       "<table border=\"1\" class=\"dataframe\">\n",
       "  <thead>\n",
       "    <tr style=\"text-align: right;\">\n",
       "      <th></th>\n",
       "      <th>longitude</th>\n",
       "      <th>latitude</th>\n",
       "      <th>housing_median_age</th>\n",
       "      <th>total_rooms</th>\n",
       "      <th>total_bedrooms</th>\n",
       "      <th>population</th>\n",
       "      <th>households</th>\n",
       "      <th>median_income</th>\n",
       "      <th>median_house_value</th>\n",
       "      <th>ocean_proximity</th>\n",
       "    </tr>\n",
       "  </thead>\n",
       "  <tbody>\n",
       "    <tr>\n",
       "      <th>73</th>\n",
       "      <td>-122.29</td>\n",
       "      <td>37.81</td>\n",
       "      <td>46.0</td>\n",
       "      <td>12.0</td>\n",
       "      <td>4.0</td>\n",
       "      <td>18.0</td>\n",
       "      <td>7.0</td>\n",
       "      <td>0.4999</td>\n",
       "      <td>67500.0</td>\n",
       "      <td>NEAR BAY</td>\n",
       "    </tr>\n",
       "    <tr>\n",
       "      <th>8944</th>\n",
       "      <td>-118.47</td>\n",
       "      <td>34.01</td>\n",
       "      <td>43.0</td>\n",
       "      <td>1160.0</td>\n",
       "      <td>304.0</td>\n",
       "      <td>393.0</td>\n",
       "      <td>250.0</td>\n",
       "      <td>2.9167</td>\n",
       "      <td>461100.0</td>\n",
       "      <td>&lt;1H OCEAN</td>\n",
       "    </tr>\n",
       "    <tr>\n",
       "      <th>3737</th>\n",
       "      <td>-118.40</td>\n",
       "      <td>34.17</td>\n",
       "      <td>27.0</td>\n",
       "      <td>3588.0</td>\n",
       "      <td>911.0</td>\n",
       "      <td>1891.0</td>\n",
       "      <td>871.0</td>\n",
       "      <td>3.4013</td>\n",
       "      <td>286000.0</td>\n",
       "      <td>&lt;1H OCEAN</td>\n",
       "    </tr>\n",
       "    <tr>\n",
       "      <th>19092</th>\n",
       "      <td>-122.62</td>\n",
       "      <td>38.24</td>\n",
       "      <td>19.0</td>\n",
       "      <td>1687.0</td>\n",
       "      <td>253.0</td>\n",
       "      <td>893.0</td>\n",
       "      <td>257.0</td>\n",
       "      <td>6.2040</td>\n",
       "      <td>201800.0</td>\n",
       "      <td>&lt;1H OCEAN</td>\n",
       "    </tr>\n",
       "    <tr>\n",
       "      <th>9493</th>\n",
       "      <td>-123.75</td>\n",
       "      <td>39.37</td>\n",
       "      <td>16.0</td>\n",
       "      <td>1377.0</td>\n",
       "      <td>296.0</td>\n",
       "      <td>830.0</td>\n",
       "      <td>279.0</td>\n",
       "      <td>3.2500</td>\n",
       "      <td>151400.0</td>\n",
       "      <td>&lt;1H OCEAN</td>\n",
       "    </tr>\n",
       "  </tbody>\n",
       "</table>\n",
       "</div>"
      ],
      "text/plain": [
       "       longitude  latitude  housing_median_age  total_rooms  total_bedrooms  \\\n",
       "73       -122.29     37.81                46.0         12.0             4.0   \n",
       "8944     -118.47     34.01                43.0       1160.0           304.0   \n",
       "3737     -118.40     34.17                27.0       3588.0           911.0   \n",
       "19092    -122.62     38.24                19.0       1687.0           253.0   \n",
       "9493     -123.75     39.37                16.0       1377.0           296.0   \n",
       "\n",
       "       population  households  median_income  median_house_value  \\\n",
       "73           18.0         7.0         0.4999             67500.0   \n",
       "8944        393.0       250.0         2.9167            461100.0   \n",
       "3737       1891.0       871.0         3.4013            286000.0   \n",
       "19092       893.0       257.0         6.2040            201800.0   \n",
       "9493        830.0       279.0         3.2500            151400.0   \n",
       "\n",
       "      ocean_proximity  \n",
       "73           NEAR BAY  \n",
       "8944        <1H OCEAN  \n",
       "3737        <1H OCEAN  \n",
       "19092       <1H OCEAN  \n",
       "9493        <1H OCEAN  "
      ]
     },
     "execution_count": 45,
     "metadata": {},
     "output_type": "execute_result"
    }
   ],
   "source": [
    "### BEGIN SOLUTION\n",
    "from sklearn.model_selection import train_test_split\n",
    "\n",
    "housing_train, housing_test = train_test_split( housing, test_size=0.33, random_state=25)\n",
    "housing_train.to_csv(\"train.csv\")\n",
    "housing_test.to_csv(\"test.csv\")\n",
    "\n",
    "housing_train.shape\n",
    "housing_train.head()\n",
    "housing_test.shape\n",
    "housing_test.head()\n",
    "### END SOLUTION"
   ]
  },
  {
   "cell_type": "markdown",
   "metadata": {},
   "source": [
    "b. Draw the distribution plots of the __median income__ for the housing data and test_data on the same plot. In the plots, set bins=20."
   ]
  },
  {
   "cell_type": "code",
   "execution_count": 46,
   "metadata": {
    "nbgrader": {
     "grade": true,
     "grade_id": "cell-0fd6c900424f5e24",
     "locked": false,
     "points": 3,
     "schema_version": 3,
     "solution": true,
     "task": false
    }
   },
   "outputs": [
    {
     "data": {
      "text/plain": [
       "<matplotlib.axes._subplots.AxesSubplot at 0x1fbbcfdb048>"
      ]
     },
     "execution_count": 46,
     "metadata": {},
     "output_type": "execute_result"
    },
    {
     "data": {
      "text/plain": [
       "<matplotlib.axes._subplots.AxesSubplot at 0x1fbbcfdb048>"
      ]
     },
     "execution_count": 46,
     "metadata": {},
     "output_type": "execute_result"
    },
    {
     "data": {
      "image/png": "[encoded data removed]",
      "text/plain": [
       "<Figure size 432x288 with 1 Axes>"
      ]
     },
     "metadata": {
      "needs_background": "light"
     },
     "output_type": "display_data"
    }
   ],
   "source": [
    "### BEGIN SOLUTION\n",
    "\n",
    "#Condidering only numerical values\n",
    "quantitative_df=housing[[\"longitude\",\"latitude\",\"housing_median_age\",\"total_rooms\",\"total_bedrooms\",\"population\",\"households\"\n",
    "                       ,\"median_income\",\"median_house_value\"]]\n",
    "\n",
    "#Normalization by Central limit theorem \n",
    "normalized_df=(quantitative_df-quantitative_df.mean())/(quantitative_df.std()/math.sqrt(quantitative_df.shape[0]))\n",
    "\n",
    "\n",
    "\n",
    "#Condidering numerical values for test sample\n",
    "quantitative_test_df=housing_test[[\"longitude\",\"latitude\",\"housing_median_age\",\"total_rooms\",\"total_bedrooms\",\"population\",\"households\"\n",
    "                       ,\"median_income\",\"median_house_value\"]]\n",
    "#Normalization of test sample\n",
    "normalized_test_df=(quantitative_test_df-quantitative_test_df.mean())/(quantitative_test_df.std()/math.sqrt(quantitative_test_df.shape[0]))\n",
    "\n",
    "\n",
    "sns.distplot(normalized_df['median_income'],bins=20,color='r')\n",
    "sns.distplot(normalized_test_df['median_income'],bins=20,color='b')\n",
    "\n",
    "### END SOLUTION"
   ]
  },
  {
   "cell_type": "markdown",
   "metadata": {},
   "source": [
    "c. From the histograms you just plotted, you may reach two observations. First, the test data and the origial data have identical normilzed histograms. Second, the kernel density distribution of the median income is concentrated in the region of [1.5, 7] and has a long tail extending to infinity. \n",
    "\n",
    "If you want your machine learning algorithm works well across a wide range of median income, you may want to prepare the training and testing data such that each stratum of the median income has an adequate representation in the training and test datasets. The stratified sampling method serves this purpose.\n",
    "\n",
    "Complete the following code to compare the performance of random sampling and and stratified sampling and save the results into a DataFrame as follows.\n",
    "<img src=\"sampling_bias.jpg\">"
   ]
  },
  {
   "cell_type": "code",
   "execution_count": 47,
   "metadata": {
    "nbgrader": {
     "grade": true,
     "grade_id": "cell-7324afc9326ee389",
     "locked": false,
     "points": 7,
     "schema_version": 3,
     "solution": true,
     "task": false
    }
   },
   "outputs": [
    {
     "data": {
      "text/html": [
       "<div>\n",
       "<style scoped>\n",
       "    .dataframe tbody tr th:only-of-type {\n",
       "        vertical-align: middle;\n",
       "    }\n",
       "\n",
       "    .dataframe tbody tr th {\n",
       "        vertical-align: top;\n",
       "    }\n",
       "\n",
       "    .dataframe thead th {\n",
       "        text-align: right;\n",
       "    }\n",
       "</style>\n",
       "<table border=\"1\" class=\"dataframe\">\n",
       "  <thead>\n",
       "    <tr style=\"text-align: right;\">\n",
       "      <th></th>\n",
       "      <th>overall</th>\n",
       "      <th>random</th>\n",
       "      <th>stratified</th>\n",
       "      <th>rand.%error</th>\n",
       "      <th>stratified.%error</th>\n",
       "      <th>error.reduction.ratio</th>\n",
       "    </tr>\n",
       "  </thead>\n",
       "  <tbody>\n",
       "    <tr>\n",
       "      <th>3</th>\n",
       "      <td>0.350581</td>\n",
       "      <td>0.347328</td>\n",
       "      <td>0.350558</td>\n",
       "      <td>-0.009279</td>\n",
       "      <td>-0.000067</td>\n",
       "      <td>138.101449</td>\n",
       "    </tr>\n",
       "    <tr>\n",
       "      <th>2</th>\n",
       "      <td>0.318847</td>\n",
       "      <td>0.323840</td>\n",
       "      <td>0.318849</td>\n",
       "      <td>0.015661</td>\n",
       "      <td>0.000007</td>\n",
       "      <td>2279.441558</td>\n",
       "    </tr>\n",
       "    <tr>\n",
       "      <th>4</th>\n",
       "      <td>0.176308</td>\n",
       "      <td>0.173517</td>\n",
       "      <td>0.176307</td>\n",
       "      <td>-0.015829</td>\n",
       "      <td>-0.000009</td>\n",
       "      <td>1721.000000</td>\n",
       "    </tr>\n",
       "    <tr>\n",
       "      <th>5</th>\n",
       "      <td>0.114438</td>\n",
       "      <td>0.114944</td>\n",
       "      <td>0.114504</td>\n",
       "      <td>0.004424</td>\n",
       "      <td>0.000575</td>\n",
       "      <td>7.689715</td>\n",
       "    </tr>\n",
       "    <tr>\n",
       "      <th>1</th>\n",
       "      <td>0.039826</td>\n",
       "      <td>0.040370</td>\n",
       "      <td>0.039783</td>\n",
       "      <td>0.013668</td>\n",
       "      <td>-0.001076</td>\n",
       "      <td>-12.705179</td>\n",
       "    </tr>\n",
       "  </tbody>\n",
       "</table>\n",
       "</div>"
      ],
      "text/plain": [
       "    overall    random  stratified  rand.%error  stratified.%error  \\\n",
       "3  0.350581  0.347328    0.350558    -0.009279          -0.000067   \n",
       "2  0.318847  0.323840    0.318849     0.015661           0.000007   \n",
       "4  0.176308  0.173517    0.176307    -0.015829          -0.000009   \n",
       "5  0.114438  0.114944    0.114504     0.004424           0.000575   \n",
       "1  0.039826  0.040370    0.039783     0.013668          -0.001076   \n",
       "\n",
       "   error.reduction.ratio  \n",
       "3             138.101449  \n",
       "2            2279.441558  \n",
       "4            1721.000000  \n",
       "5               7.689715  \n",
       "1             -12.705179  "
      ]
     },
     "execution_count": 47,
     "metadata": {},
     "output_type": "execute_result"
    }
   ],
   "source": [
    "from sklearn.model_selection import StratifiedShuffleSplit\n",
    "\n",
    "bins = [0., 1.5, 3.0, 4.5, 6.0, np.inf]\n",
    "housing['income_level'] = pd.cut(housing.median_income, bins, labels=[1, 2, 3, 4, 5])\n",
    "# note for this part some will come to certain errors, then please go to \n",
    "# https://github.com/ageron/handson-ml/issues/378\n",
    "# to solve the issue\n",
    "random_train_set, random_test_set = train_test_split(housing, test_size=0.33, random_state=25)\n",
    "split = StratifiedShuffleSplit(n_splits=1, test_size=0.33, random_state=25)\n",
    "for train_index, test_index in split.split(housing, housing[\"income_level\"]):\n",
    "    strat_train_set = housing.loc[train_index]\n",
    "    strat_test_set = housing.loc[test_index]\n",
    "\n",
    "### BEGIN SOLUTION\n",
    "    sampling_bias=pd.DataFrame({\"overall\":housing['income_level'].value_counts()/len(housing),\n",
    "                            \"random\":random_test_set['income_level'].value_counts()/len(random_test_set),\n",
    "                            \"stratified\":strat_test_set['income_level'].value_counts()/len(strat_test_set)\n",
    "                           })\n",
    "\n",
    "sampling_bias['rand.%error']=sampling_bias[\"random\"]/sampling_bias[\"overall\"]-1\n",
    "sampling_bias['stratified.%error']=sampling_bias[\"stratified\"]/sampling_bias[\"overall\"]-1\n",
    "### END SOLUTION\n",
    "\n",
    "sampling_bias['error.reduction.ratio'] = sampling_bias['rand.%error']/sampling_bias['stratified.%error']\n",
    "sampling_bias\n",
    "for set_ in (strat_train_set, strat_test_set):\n",
    "    set_.drop(\"income_level\", axis=1, inplace=True)"
   ]
  },
  {
   "cell_type": "markdown",
   "metadata": {},
   "source": [
    "## 2. Combine Attributes (6 points)\n",
    "\n",
    "Before you prepare data for Machine Learning algorithms, you may try various attribute combinations to see if a combined attributes have a stronger relationship with the target variable."
   ]
  },
  {
   "cell_type": "markdown",
   "metadata": {},
   "source": [
    "a. First, create three combined attributions: __rooms_per_household__, __bedrooms_per_room__, and __population_per_household__. Then compute the correlation coefficients between all numerical attributes and __median_house_value__. Output these coefficients in a decreasing order. e.g.:\n",
    "```\n",
    "median_house_value          1.000000\n",
    "median_income               0.688075\n",
    "```"
   ]
  },
  {
   "cell_type": "code",
   "execution_count": 48,
   "metadata": {},
   "outputs": [],
   "source": [
    "housing[\"rooms_per_household\"] = housing[\"total_rooms\"]/housing[\"households\"]\n",
    "# YOUR CODE HERE\n",
    "housing[\"bedrooms_per_room\"] = housing[\"total_bedrooms\"]/housing[\"total_rooms\"]\n",
    "housing[\"population_per_household\"] = housing[\"population\"]/housing[\"households\"]\n",
    "#taking numerical values for whole population\n",
    "quantitative_df=housing[[\"longitude\",\"latitude\",\"housing_median_age\",\"total_rooms\",\"total_bedrooms\",\"population\",\"households\"\n",
    "                       ,\"median_income\",\"median_house_value\",\"rooms_per_household\",\"bedrooms_per_room\",\"population_per_household\"]]"
   ]
  },
  {
   "cell_type": "code",
   "execution_count": null,
   "metadata": {},
   "outputs": [],
   "source": []
  },
  {
   "cell_type": "code",
   "execution_count": 49,
   "metadata": {
    "nbgrader": {
     "grade": true,
     "grade_id": "cell-393fe7c41031e88b",
     "locked": false,
     "points": 3,
     "schema_version": 3,
     "solution": true,
     "task": false
    }
   },
   "outputs": [
    {
     "data": {
      "text/plain": [
       "median_house_value          1.000000\n",
       "median_income               0.688075\n",
       "rooms_per_household         0.151948\n",
       "total_rooms                 0.134153\n",
       "housing_median_age          0.105623\n",
       "households                  0.065843\n",
       "total_bedrooms              0.049686\n",
       "population_per_household   -0.023737\n",
       "population                 -0.024650\n",
       "longitude                  -0.045967\n",
       "latitude                   -0.144160\n",
       "bedrooms_per_room          -0.255880\n",
       "Name: median_house_value, dtype: float64"
      ]
     },
     "execution_count": 49,
     "metadata": {},
     "output_type": "execute_result"
    }
   ],
   "source": [
    "housing[\"rooms_per_household\"] = housing[\"total_rooms\"]/housing[\"households\"]\n",
    "### BEGIN SOLUTION\n",
    "housing[\"bedrooms_per_room\"] = housing[\"total_bedrooms\"]/housing[\"total_rooms\"]\n",
    "housing[\"population_per_household\"] = housing[\"population\"]/housing[\"households\"]\n",
    "#taking numerical values for whole population\n",
    "quantitative_df=housing[[\"longitude\",\"latitude\",\"housing_median_age\",\"total_rooms\",\"total_bedrooms\",\"population\",\"households\"\n",
    "                       ,\"median_income\",\"median_house_value\",\"rooms_per_household\",\"bedrooms_per_room\",\"population_per_household\"]]\n",
    "normalized_df=(quantitative_df-quantitative_df.mean())/(quantitative_df.std())\n",
    "corr=normalized_df.corr(method ='pearson')\n",
    "sorted_corr=corr['median_house_value'].sort_values(kind=\"quicksort\",ascending=False)\n",
    "sorted_corr\n",
    "### END SOLUTION"
   ]
  },
  {
   "cell_type": "markdown",
   "metadata": {},
   "source": [
    "b. Among the three combined attributes, which ones are clearly more correlated to __median_house_value__ than the original attributes? Which ones are not? Write your answer to a block string such as\n",
    "```\n",
    "answer = \"\"\"\n",
    "attribue a is more correlated.\n",
    "attribue b is not.\n",
    "\"\"\"\n",
    "```"
   ]
  },
  {
   "cell_type": "code",
   "execution_count": 51,
   "metadata": {
    "nbgrader": {
     "grade": true,
     "grade_id": "cell-d64da44d09c4b06e",
     "locked": false,
     "points": 3,
     "schema_version": 3,
     "solution": true,
     "task": false
    }
   },
   "outputs": [
    {
     "name": "stdout",
     "output_type": "stream",
     "text": [
      "\n",
      "Attribute rooms_per_household is more correlated.\n",
      "Attribute bedrooms_per_room is not correlated.\n",
      "\n",
      "\n"
     ]
    }
   ],
   "source": [
    "### BEGIN SOLUTION\n",
    "answer=\"\"\"\n",
    "Attribute rooms_per_household is more correlated.\n",
    "Attribute bedrooms_per_room is not correlated.\n",
    "\n",
    "\"\"\"\n",
    "### END SOLUTION\n",
    "print(answer)"
   ]
  },
  {
   "cell_type": "markdown",
   "metadata": {},
   "source": [
    "## 3. Missing Values (10 points)\n",
    "\n",
    "There are three options to handle attributes with missing values:\n",
    "\n",
    "1. Remove the rows that contain missing features.\n",
    "2. Remove the columns that contain missing fetaures.\n",
    "3. Replace the missing values with new values such as the mean, the median, etc."
   ]
  },
  {
   "cell_type": "markdown",
   "metadata": {},
   "source": [
    "a. Which DataFrame methods can be used to accomplish the above goals? Write your answer to a block string such as\n",
    "```\n",
    "answer = \"\"\"\n",
    "1. method_a()\n",
    "2. method_b()\n",
    "3. method_c()\n",
    "\"\"\"\n",
    "```"
   ]
  },
  {
   "cell_type": "code",
   "execution_count": 52,
   "metadata": {
    "nbgrader": {
     "grade": true,
     "grade_id": "cell-430de5c344758922",
     "locked": false,
     "points": 3,
     "schema_version": 3,
     "solution": true,
     "task": false
    }
   },
   "outputs": [
    {
     "name": "stdout",
     "output_type": "stream",
     "text": [
      "\n",
      "method_c() : Replace the missing values with new values such as the mean, the median, etc.\n",
      "\n"
     ]
    }
   ],
   "source": [
    "### BEGIN SOLUTION\n",
    "answer=\"\"\"\n",
    "method_c() : Replace the missing values with new values such as the mean, the median, etc.\n",
    "\"\"\"\n",
    "### END SOLUTION\n",
    "print(answer)"
   ]
  },
  {
   "cell_type": "markdown",
   "metadata": {},
   "source": [
    "b. Assume you choose the third option, you may want a systematic solution that handle the following two scenarios:\n",
    "\n",
    "1. Both the train data and test data need to handle the missing values.\n",
    "2. When your system is going online, attributes that currently do not contain missing values may have missing values.\n",
    "\n",
    "You can use the SimputeImputer class in the scikit-leran library (https://scikit-learn.org/stable/modules/impute.html) to accomplish the goal of the third option. Complete the following code to replace all missing values in each column with the means of that column and save the cleaned data as a feature matrix __X__. \n",
    "\n",
    "Hint: you may drop the non-numerical attribute in this step."
   ]
  },
  {
   "cell_type": "code",
   "execution_count": 57,
   "metadata": {},
   "outputs": [
    {
     "data": {
      "text/html": [
       "<div>\n",
       "<style scoped>\n",
       "    .dataframe tbody tr th:only-of-type {\n",
       "        vertical-align: middle;\n",
       "    }\n",
       "\n",
       "    .dataframe tbody tr th {\n",
       "        vertical-align: top;\n",
       "    }\n",
       "\n",
       "    .dataframe thead th {\n",
       "        text-align: right;\n",
       "    }\n",
       "</style>\n",
       "<table border=\"1\" class=\"dataframe\">\n",
       "  <thead>\n",
       "    <tr style=\"text-align: right;\">\n",
       "      <th></th>\n",
       "      <th>longitude</th>\n",
       "      <th>latitude</th>\n",
       "      <th>housing_median_age</th>\n",
       "      <th>total_rooms</th>\n",
       "      <th>total_bedrooms</th>\n",
       "      <th>population</th>\n",
       "      <th>households</th>\n",
       "      <th>median_income</th>\n",
       "      <th>median_house_value</th>\n",
       "      <th>rooms_per_household</th>\n",
       "      <th>bedrooms_per_room</th>\n",
       "      <th>population_per_household</th>\n",
       "    </tr>\n",
       "  </thead>\n",
       "  <tbody>\n",
       "    <tr>\n",
       "      <th>0</th>\n",
       "      <td>-122.23</td>\n",
       "      <td>37.88</td>\n",
       "      <td>41.0</td>\n",
       "      <td>880.0</td>\n",
       "      <td>129.0</td>\n",
       "      <td>322.0</td>\n",
       "      <td>126.0</td>\n",
       "      <td>8.3252</td>\n",
       "      <td>452600.0</td>\n",
       "      <td>6.984127</td>\n",
       "      <td>0.146591</td>\n",
       "      <td>2.555556</td>\n",
       "    </tr>\n",
       "    <tr>\n",
       "      <th>1</th>\n",
       "      <td>-122.22</td>\n",
       "      <td>37.86</td>\n",
       "      <td>21.0</td>\n",
       "      <td>7099.0</td>\n",
       "      <td>1106.0</td>\n",
       "      <td>2401.0</td>\n",
       "      <td>1138.0</td>\n",
       "      <td>8.3014</td>\n",
       "      <td>358500.0</td>\n",
       "      <td>6.238137</td>\n",
       "      <td>0.155797</td>\n",
       "      <td>2.109842</td>\n",
       "    </tr>\n",
       "    <tr>\n",
       "      <th>2</th>\n",
       "      <td>-122.24</td>\n",
       "      <td>37.85</td>\n",
       "      <td>52.0</td>\n",
       "      <td>1467.0</td>\n",
       "      <td>190.0</td>\n",
       "      <td>496.0</td>\n",
       "      <td>177.0</td>\n",
       "      <td>7.2574</td>\n",
       "      <td>352100.0</td>\n",
       "      <td>8.288136</td>\n",
       "      <td>0.129516</td>\n",
       "      <td>2.802260</td>\n",
       "    </tr>\n",
       "    <tr>\n",
       "      <th>3</th>\n",
       "      <td>-122.25</td>\n",
       "      <td>37.85</td>\n",
       "      <td>52.0</td>\n",
       "      <td>1274.0</td>\n",
       "      <td>235.0</td>\n",
       "      <td>558.0</td>\n",
       "      <td>219.0</td>\n",
       "      <td>5.6431</td>\n",
       "      <td>341300.0</td>\n",
       "      <td>5.817352</td>\n",
       "      <td>0.184458</td>\n",
       "      <td>2.547945</td>\n",
       "    </tr>\n",
       "    <tr>\n",
       "      <th>4</th>\n",
       "      <td>-122.25</td>\n",
       "      <td>37.85</td>\n",
       "      <td>52.0</td>\n",
       "      <td>1627.0</td>\n",
       "      <td>280.0</td>\n",
       "      <td>565.0</td>\n",
       "      <td>259.0</td>\n",
       "      <td>3.8462</td>\n",
       "      <td>342200.0</td>\n",
       "      <td>6.281853</td>\n",
       "      <td>0.172096</td>\n",
       "      <td>2.181467</td>\n",
       "    </tr>\n",
       "  </tbody>\n",
       "</table>\n",
       "</div>"
      ],
      "text/plain": [
       "   longitude  latitude  housing_median_age  total_rooms  total_bedrooms  \\\n",
       "0    -122.23     37.88                41.0        880.0           129.0   \n",
       "1    -122.22     37.86                21.0       7099.0          1106.0   \n",
       "2    -122.24     37.85                52.0       1467.0           190.0   \n",
       "3    -122.25     37.85                52.0       1274.0           235.0   \n",
       "4    -122.25     37.85                52.0       1627.0           280.0   \n",
       "\n",
       "   population  households  median_income  median_house_value  \\\n",
       "0       322.0       126.0         8.3252            452600.0   \n",
       "1      2401.0      1138.0         8.3014            358500.0   \n",
       "2       496.0       177.0         7.2574            352100.0   \n",
       "3       558.0       219.0         5.6431            341300.0   \n",
       "4       565.0       259.0         3.8462            342200.0   \n",
       "\n",
       "   rooms_per_household  bedrooms_per_room  population_per_household  \n",
       "0             6.984127           0.146591                  2.555556  \n",
       "1             6.238137           0.155797                  2.109842  \n",
       "2             8.288136           0.129516                  2.802260  \n",
       "3             5.817352           0.184458                  2.547945  \n",
       "4             6.281853           0.172096                  2.181467  "
      ]
     },
     "execution_count": 57,
     "metadata": {},
     "output_type": "execute_result"
    },
    {
     "data": {
      "text/plain": [
       "(20640, 12)"
      ]
     },
     "execution_count": 57,
     "metadata": {},
     "output_type": "execute_result"
    }
   ],
   "source": [
    "# YOUR CODE HERE\n",
    "\n",
    "\n",
    "housing.head()\n",
    "#Using fillna function of dataframe\n",
    "housing['total_bedrooms'].fillna(housing['total_bedrooms'].mean(), inplace=True)\n",
    "housing['bedrooms_per_room'].fillna(housing['bedrooms_per_room'].mean(), inplace=True)\n",
    "X=housing.to_numpy()\n",
    "housing_num = pd.DataFrame(X, columns=housing.columns)\n",
    "X.shape\n"
   ]
  },
  {
   "cell_type": "code",
   "execution_count": 58,
   "metadata": {
    "nbgrader": {
     "grade": true,
     "grade_id": "cell-2b3779d29ba1e8df",
     "locked": true,
     "points": 1,
     "schema_version": 3,
     "solution": false,
     "task": false
    }
   },
   "outputs": [],
   "source": [
    "assert type(X).__name__ == \"ndarray\""
   ]
  },
  {
   "cell_type": "code",
   "execution_count": 59,
   "metadata": {
    "nbgrader": {
     "grade": true,
     "grade_id": "cell-b0d223ee86650c52",
     "locked": true,
     "points": 1,
     "schema_version": 3,
     "solution": false,
     "task": false
    }
   },
   "outputs": [],
   "source": [
    "assert X.shape[0] == housing.shape[0]"
   ]
  },
  {
   "cell_type": "code",
   "execution_count": 60,
   "metadata": {
    "nbgrader": {
     "grade": true,
     "grade_id": "cell-8197027d7d13fb34",
     "locked": true,
     "points": 5,
     "schema_version": 3,
     "solution": false,
     "task": false
    }
   },
   "outputs": [],
   "source": [
    "assert np.isnan(X).any() == False"
   ]
  },
  {
   "cell_type": "markdown",
   "metadata": {},
   "source": [
    "## 4. Handling Text and Categorical Attributes (10 points)\n",
    "\n",
    "Categorical data is one type of structured data we frequently see in data science. For example, the position of a football player, the weather of a day, the size of a shirt, the genres of musics and country name are all categorical data.\n",
    "\n",
    "In categorical data, the values of a data attribute are discrete and belong to a finite set of categories or classes, which are often known as classes or labels. The values of a categorical data can be numberic or textual.\n",
    "\n",
    "There are two major classes of categorical data: nominal and ordinal. \n",
    "\n",
    "+ For nominal categorical attribute, there is no concept of ordering among the values of the attribute. For example, The types of weathers are normial data.\n",
    "\n",
    "+ For ordinal categorical attribute, you can place the attributes into some kind of order or scale. For example, you can rate the happiness on a scale of 1-10. Similarly, shoe sizes, education level, income levels, and hurricane categories are examples of ordinal data."
   ]
  },
  {
   "cell_type": "markdown",
   "metadata": {},
   "source": [
    "a. Is __ocean_proximity__ a nominal categorical data or ordinal categorical data?"
   ]
  },
  {
   "cell_type": "code",
   "execution_count": 61,
   "metadata": {
    "nbgrader": {
     "grade": true,
     "grade_id": "cell-69012ff009034a20",
     "locked": false,
     "points": 2,
     "schema_version": 3,
     "solution": true,
     "task": false
    }
   },
   "outputs": [
    {
     "data": {
      "text/plain": [
       "'ocean_proximity is ordinal categorical data'"
      ]
     },
     "execution_count": 61,
     "metadata": {},
     "output_type": "execute_result"
    }
   ],
   "source": [
    "### BEGIN SOLUTION\n",
    "answer = \"\"\"ocean_proximity is ordinal categorical data\"\"\"\n",
    "### END SOLUTION\n",
    "answer"
   ]
  },
  {
   "cell_type": "markdown",
   "metadata": {},
   "source": [
    "b. Complete the following code to convert the __ocean_proximity__ categorical data into one-hot vectors (see https://scikit-learn.org/stable/modules/generated/sklearn.preprocessing.OneHotEncoder.html). Save the encoded results to a variable named __housing_cat_1hot__."
   ]
  },
  {
   "cell_type": "code",
   "execution_count": 62,
   "metadata": {
    "nbgrader": {
     "grade": true,
     "grade_id": "cell-d128f0d358752dff",
     "locked": false,
     "points": 8,
     "schema_version": 3,
     "solution": true,
     "task": false
    }
   },
   "outputs": [
    {
     "data": {
      "text/plain": [
       "[array(['<1H OCEAN', 'INLAND', 'ISLAND', 'NEAR BAY', 'NEAR OCEAN'],\n",
       "       dtype=object)]"
      ]
     },
     "execution_count": 62,
     "metadata": {},
     "output_type": "execute_result"
    },
    {
     "data": {
      "text/plain": [
       "(20640, 5)"
      ]
     },
     "execution_count": 62,
     "metadata": {},
     "output_type": "execute_result"
    }
   ],
   "source": [
    "### BEGIN SOLUTION\n",
    "from sklearn.preprocessing import OneHotEncoder\n",
    "\n",
    "housing = pd.read_csv(\"housing.csv\")\n",
    "housing_objects=housing.select_dtypes(include=[object])\n",
    "cat_encoder = OneHotEncoder(handle_unknown='ignore')\n",
    "#cat_encoder.fit(housing_objects)\n",
    "housing_cat_1hot=cat_encoder.fit_transform(housing_objects)\n",
    "\n",
    "### END SOLUTION\n",
    "cat_encoder.categories_\n",
    "housing_cat_1hot.shape"
   ]
  },
  {
   "cell_type": "markdown",
   "metadata": {},
   "source": [
    "## 5. Feature Scaling (12 points)\n",
    "\n",
    "With few exceptions, Machine Learning algorithms don’t perform well when the input numerical attributes have very different scales. For the housing data, you may have already notices that the attributes have much different scales. For example , the total number of of rooms range from 6 to 39,320, while the median income range from 0 to 15.\n",
    "\n",
    "There are two common ways to get all attributes to have the same scale: min-max scaling and standardization.\n",
    "\n",
    "+ Min-max scaling (many people call this normalization) is quite simple: values are shifted and rescaled so that they end up ranging from 0 to 1.\n",
    "\n",
    "+ Standardization is different: first, it subtracts the mean value (so standardized values always have a zero mean); then it divides the difference by the standard deviation so that the resulting distribution has unit variance."
   ]
  },
  {
   "cell_type": "markdown",
   "metadata": {},
   "source": [
    "a. Is scaling the target values generally required? Justify your answer."
   ]
  },
  {
   "cell_type": "markdown",
   "metadata": {
    "nbgrader": {
     "grade": true,
     "grade_id": "cell-e20b2d4a22976987",
     "locked": false,
     "points": 3,
     "schema_version": 3,
     "solution": true,
     "task": false
    }
   },
   "source": [
    "Yes scaling is required, because to preprocess the data we need to first normalize the data. Normalization is a technique often applied as part of data preparation for machine learning. The goal of normalization is to change the values of numeric columns in the dataset to a common scale, without distorting differences in the ranges of values. For machine learning, every dataset does not require normalization. It is required only when features have different ranges.Normalization helps to provide correct estimation and speeds up the algorithm."
   ]
  },
  {
   "cell_type": "markdown",
   "metadata": {},
   "source": [
    "b. Which feature scaling method is preffered when the original data contain a small number of outliers? Justify your answer."
   ]
  },
  {
   "cell_type": "markdown",
   "metadata": {
    "nbgrader": {
     "grade": true,
     "grade_id": "cell-45d5354e874ce0bc",
     "locked": false,
     "points": 3,
     "schema_version": 3,
     "solution": true,
     "task": false
    }
   },
   "source": [
    "Standard scalar is better than min-max scalar as min-max scalar is more sensitive to outliers.In case of less number of outliers standard scalar serves as a better approach.Hence, Standars scalar method can ve preferred when the original data contain a small number of outliers."
   ]
  },
  {
   "cell_type": "markdown",
   "metadata": {},
   "source": [
    "c. Write some code to scale the housing data using standardization and save the transfromed data into a variable __housing_num_tr__."
   ]
  },
  {
   "cell_type": "code",
   "execution_count": 63,
   "metadata": {
    "nbgrader": {
     "grade": true,
     "grade_id": "cell-ed8dc25c55d96a64",
     "locked": false,
     "points": 6,
     "schema_version": 3,
     "solution": true,
     "task": false
    }
   },
   "outputs": [
    {
     "data": {
      "text/html": [
       "<div>\n",
       "<style scoped>\n",
       "    .dataframe tbody tr th:only-of-type {\n",
       "        vertical-align: middle;\n",
       "    }\n",
       "\n",
       "    .dataframe tbody tr th {\n",
       "        vertical-align: top;\n",
       "    }\n",
       "\n",
       "    .dataframe thead th {\n",
       "        text-align: right;\n",
       "    }\n",
       "</style>\n",
       "<table border=\"1\" class=\"dataframe\">\n",
       "  <thead>\n",
       "    <tr style=\"text-align: right;\">\n",
       "      <th></th>\n",
       "      <th>longitude</th>\n",
       "      <th>latitude</th>\n",
       "      <th>housing_median_age</th>\n",
       "      <th>total_rooms</th>\n",
       "      <th>total_bedrooms</th>\n",
       "      <th>population</th>\n",
       "      <th>households</th>\n",
       "      <th>median_income</th>\n",
       "      <th>median_house_value</th>\n",
       "      <th>rooms_per_household</th>\n",
       "      <th>bedrooms_per_room</th>\n",
       "      <th>population_per_household</th>\n",
       "    </tr>\n",
       "  </thead>\n",
       "  <tbody>\n",
       "    <tr>\n",
       "      <th>count</th>\n",
       "      <td>2.064000e+04</td>\n",
       "      <td>2.064000e+04</td>\n",
       "      <td>2.064000e+04</td>\n",
       "      <td>2.064000e+04</td>\n",
       "      <td>2.043300e+04</td>\n",
       "      <td>2.064000e+04</td>\n",
       "      <td>2.064000e+04</td>\n",
       "      <td>2.064000e+04</td>\n",
       "      <td>2.064000e+04</td>\n",
       "      <td>2.064000e+04</td>\n",
       "      <td>2.043300e+04</td>\n",
       "      <td>2.064000e+04</td>\n",
       "    </tr>\n",
       "    <tr>\n",
       "      <th>mean</th>\n",
       "      <td>-1.429215e-12</td>\n",
       "      <td>-7.636681e-14</td>\n",
       "      <td>1.817399e-15</td>\n",
       "      <td>-9.590802e-17</td>\n",
       "      <td>-1.991805e-16</td>\n",
       "      <td>-2.836528e-16</td>\n",
       "      <td>7.563865e-17</td>\n",
       "      <td>-2.523810e-14</td>\n",
       "      <td>3.767873e-16</td>\n",
       "      <td>4.300802e-15</td>\n",
       "      <td>1.940541e-14</td>\n",
       "      <td>-7.201170e-16</td>\n",
       "    </tr>\n",
       "    <tr>\n",
       "      <th>std</th>\n",
       "      <td>1.000000e+00</td>\n",
       "      <td>1.000000e+00</td>\n",
       "      <td>1.000000e+00</td>\n",
       "      <td>1.000000e+00</td>\n",
       "      <td>1.000000e+00</td>\n",
       "      <td>1.000000e+00</td>\n",
       "      <td>1.000000e+00</td>\n",
       "      <td>1.000000e+00</td>\n",
       "      <td>1.000000e+00</td>\n",
       "      <td>1.000000e+00</td>\n",
       "      <td>1.000000e+00</td>\n",
       "      <td>1.000000e+00</td>\n",
       "    </tr>\n",
       "    <tr>\n",
       "      <th>min</th>\n",
       "      <td>-2.385935e+00</td>\n",
       "      <td>-1.447533e+00</td>\n",
       "      <td>-2.196127e+00</td>\n",
       "      <td>-1.207254e+00</td>\n",
       "      <td>-1.274062e+00</td>\n",
       "      <td>-1.256092e+00</td>\n",
       "      <td>-1.303952e+00</td>\n",
       "      <td>-1.774256e+00</td>\n",
       "      <td>-1.662601e+00</td>\n",
       "      <td>-1.852274e+00</td>\n",
       "      <td>-1.949528e+00</td>\n",
       "      <td>-2.289944e-01</td>\n",
       "    </tr>\n",
       "    <tr>\n",
       "      <th>25%</th>\n",
       "      <td>-1.113182e+00</td>\n",
       "      <td>-7.967694e-01</td>\n",
       "      <td>-8.453727e-01</td>\n",
       "      <td>-5.445566e-01</td>\n",
       "      <td>-5.739894e-01</td>\n",
       "      <td>-5.637952e-01</td>\n",
       "      <td>-5.742155e-01</td>\n",
       "      <td>-6.881019e-01</td>\n",
       "      <td>-7.561450e-01</td>\n",
       "      <td>-3.994399e-01</td>\n",
       "      <td>-6.486670e-01</td>\n",
       "      <td>-6.170912e-02</td>\n",
       "    </tr>\n",
       "    <tr>\n",
       "      <th>50%</th>\n",
       "      <td>5.389006e-01</td>\n",
       "      <td>-6.422715e-01</td>\n",
       "      <td>2.864502e-02</td>\n",
       "      <td>-2.332048e-01</td>\n",
       "      <td>-2.441248e-01</td>\n",
       "      <td>-2.291262e-01</td>\n",
       "      <td>-2.368104e-01</td>\n",
       "      <td>-1.767908e-01</td>\n",
       "      <td>-2.353280e-01</td>\n",
       "      <td>-8.078293e-02</td>\n",
       "      <td>-1.703336e-01</td>\n",
       "      <td>-2.431526e-02</td>\n",
       "    </tr>\n",
       "    <tr>\n",
       "      <th>75%</th>\n",
       "      <td>7.784775e-01</td>\n",
       "      <td>9.729330e-01</td>\n",
       "      <td>6.642943e-01</td>\n",
       "      <td>2.347971e-01</td>\n",
       "      <td>2.589780e-01</td>\n",
       "      <td>2.644885e-01</td>\n",
       "      <td>2.758360e-01</td>\n",
       "      <td>4.592952e-01</td>\n",
       "      <td>5.014851e-01</td>\n",
       "      <td>2.519554e-01</td>\n",
       "      <td>4.618943e-01</td>\n",
       "      <td>2.037404e-02</td>\n",
       "    </tr>\n",
       "    <tr>\n",
       "      <th>max</th>\n",
       "      <td>2.625216e+00</td>\n",
       "      <td>2.957996e+00</td>\n",
       "      <td>1.856137e+00</td>\n",
       "      <td>1.681517e+01</td>\n",
       "      <td>1.401836e+01</td>\n",
       "      <td>3.024960e+01</td>\n",
       "      <td>1.460117e+01</td>\n",
       "      <td>5.858144e+00</td>\n",
       "      <td>2.540349e+00</td>\n",
       "      <td>5.516190e+01</td>\n",
       "      <td>1.357235e+01</td>\n",
       "      <td>1.194162e+02</td>\n",
       "    </tr>\n",
       "  </tbody>\n",
       "</table>\n",
       "</div>"
      ],
      "text/plain": [
       "          longitude      latitude  housing_median_age   total_rooms  \\\n",
       "count  2.064000e+04  2.064000e+04        2.064000e+04  2.064000e+04   \n",
       "mean  -1.429215e-12 -7.636681e-14        1.817399e-15 -9.590802e-17   \n",
       "std    1.000000e+00  1.000000e+00        1.000000e+00  1.000000e+00   \n",
       "min   -2.385935e+00 -1.447533e+00       -2.196127e+00 -1.207254e+00   \n",
       "25%   -1.113182e+00 -7.967694e-01       -8.453727e-01 -5.445566e-01   \n",
       "50%    5.389006e-01 -6.422715e-01        2.864502e-02 -2.332048e-01   \n",
       "75%    7.784775e-01  9.729330e-01        6.642943e-01  2.347971e-01   \n",
       "max    2.625216e+00  2.957996e+00        1.856137e+00  1.681517e+01   \n",
       "\n",
       "       total_bedrooms    population    households  median_income  \\\n",
       "count    2.043300e+04  2.064000e+04  2.064000e+04   2.064000e+04   \n",
       "mean    -1.991805e-16 -2.836528e-16  7.563865e-17  -2.523810e-14   \n",
       "std      1.000000e+00  1.000000e+00  1.000000e+00   1.000000e+00   \n",
       "min     -1.274062e+00 -1.256092e+00 -1.303952e+00  -1.774256e+00   \n",
       "25%     -5.739894e-01 -5.637952e-01 -5.742155e-01  -6.881019e-01   \n",
       "50%     -2.441248e-01 -2.291262e-01 -2.368104e-01  -1.767908e-01   \n",
       "75%      2.589780e-01  2.644885e-01  2.758360e-01   4.592952e-01   \n",
       "max      1.401836e+01  3.024960e+01  1.460117e+01   5.858144e+00   \n",
       "\n",
       "       median_house_value  rooms_per_household  bedrooms_per_room  \\\n",
       "count        2.064000e+04         2.064000e+04       2.043300e+04   \n",
       "mean         3.767873e-16         4.300802e-15       1.940541e-14   \n",
       "std          1.000000e+00         1.000000e+00       1.000000e+00   \n",
       "min         -1.662601e+00        -1.852274e+00      -1.949528e+00   \n",
       "25%         -7.561450e-01        -3.994399e-01      -6.486670e-01   \n",
       "50%         -2.353280e-01        -8.078293e-02      -1.703336e-01   \n",
       "75%          5.014851e-01         2.519554e-01       4.618943e-01   \n",
       "max          2.540349e+00         5.516190e+01       1.357235e+01   \n",
       "\n",
       "       population_per_household  \n",
       "count              2.064000e+04  \n",
       "mean              -7.201170e-16  \n",
       "std                1.000000e+00  \n",
       "min               -2.289944e-01  \n",
       "25%               -6.170912e-02  \n",
       "50%               -2.431526e-02  \n",
       "75%                2.037404e-02  \n",
       "max                1.194162e+02  "
      ]
     },
     "execution_count": 63,
     "metadata": {},
     "output_type": "execute_result"
    }
   ],
   "source": [
    "### BEGIN SOLUTION\n",
    "housing_num_tr=(quantitative_df-quantitative_df.mean())/(quantitative_df.std())\n",
    "\n",
    "### END SOLUTION\n",
    "df = pd.DataFrame(housing_num_tr)\n",
    "df.describe()"
   ]
  },
  {
   "cell_type": "markdown",
   "metadata": {},
   "source": [
    "## Transformation Pipelines (10 points)"
   ]
  },
  {
   "cell_type": "markdown",
   "metadata": {},
   "source": [
    "As you can see, there are many data transformation steps that need to be executed in the right order. To automate this process, you can create a pipeline using the Pipeline class in the scikit-learn library. Complete the following code to create a fully prepared data."
   ]
  },
  {
   "cell_type": "code",
   "execution_count": 64,
   "metadata": {
    "nbgrader": {
     "grade": true,
     "grade_id": "cell-f9ed895382a2ac3d",
     "locked": false,
     "points": 10,
     "schema_version": 3,
     "solution": true,
     "task": false
    }
   },
   "outputs": [
    {
     "data": {
      "text/plain": [
       "(13828, 16)"
      ]
     },
     "execution_count": 64,
     "metadata": {},
     "output_type": "execute_result"
    }
   ],
   "source": [
    "import numpy as np\n",
    "import pandas as pd\n",
    "from sklearn.pipeline import Pipeline\n",
    "from sklearn.preprocessing import StandardScaler\n",
    "from sklearn.compose import ColumnTransformer\n",
    "from sklearn.base import BaseEstimator, TransformerMixin\n",
    "from sklearn.model_selection import StratifiedShuffleSplit\n",
    "\n",
    "# 1. Get the data\n",
    "housing = pd.read_csv(\"housing.csv\")\n",
    "\n",
    "# 2. Split data into train set and test set\n",
    "bins = [0., 1.5, 3.0, 4.5, 6.0, np.inf]\n",
    "housing['income_level'] = pd.cut(housing.median_income, bins, labels=[1, 2, 3, 4, 5])\n",
    "# note for this part some will come to certain errors, then please go to \n",
    "# https://github.com/ageron/handson-ml/issues/378\n",
    "# to solve the issue\n",
    "random_train_set, random_test_set = train_test_split(housing, test_size=0.33, random_state=56)\n",
    "split = StratifiedShuffleSplit(n_splits=1, test_size=0.33, random_state=56)\n",
    "for train_index, test_index in split.split(housing, housing[\"income_level\"]):\n",
    "    strat_train_set = housing.loc[train_index]\n",
    "    strat_test_set = housing.loc[test_index]\n",
    "for set_ in (strat_train_set, strat_test_set):\n",
    "    set_.drop(\"income_level\", axis=1, inplace=True)\n",
    "\n",
    "# 3. Divide train data into fetaure matrix and labels and save them to variable housing and housing_labels\n",
    "### BEGIN SOLUTION\n",
    "housing = strat_train_set.drop(\"median_house_value\", axis=1)\n",
    "housing_labels = strat_train_set[\"median_house_value\"].copy()\n",
    "### END SOLUTION\n",
    "\n",
    "# 4. Create combined attributes\n",
    "rooms_ix, bedrooms_ix, population_ix, households_ix = 3, 4, 5, 6\n",
    "class CombinedAttributesAdder(BaseEstimator, TransformerMixin):\n",
    "    def __init__(self, add_bedrooms_per_room = True): \n",
    "        self.add_bedrooms_per_room = add_bedrooms_per_room\n",
    "    \n",
    "    def fit(self, X, y=None):\n",
    "        return self \n",
    "    \n",
    "    def transform(self, X, y=None):\n",
    "        rooms_per_household = X[:, rooms_ix] / X[:, households_ix]\n",
    "        population_per_household = X[:, population_ix] / X[:, households_ix]\n",
    "        if self.add_bedrooms_per_room:\n",
    "            bedrooms_per_room = X[:, bedrooms_ix] / X[:, rooms_ix]\n",
    "            return np.c_[X, rooms_per_household, population_per_household,\n",
    "                         bedrooms_per_room]\n",
    "        else:\n",
    "            return np.c_[X, rooms_per_household, population_per_household]\n",
    "\n",
    "# 5. create a numerical pipline\n",
    "from sklearn.impute import SimpleImputer\n",
    "\n",
    "num_pipeline = Pipeline([\n",
    "    ('imputer', SimpleImputer(strategy=\"median\")),\n",
    "    ('attribs_adder', CombinedAttributesAdder()),\n",
    "    ('std_scaler', StandardScaler()),\n",
    "])\n",
    "\n",
    "# 6. Create a full pipeline\n",
    "### BEGIN SOLUTION\n",
    "housing_num = housing.drop(\"ocean_proximity\", axis=1)\n",
    "num_attribs = list(housing_num)\n",
    "cat_attribs = [\"ocean_proximity\"]\n",
    "\n",
    "full_pipeline = ColumnTransformer([\n",
    "    (\"num\", num_pipeline, num_attribs),\n",
    "    (\"cat\", OneHotEncoder(), cat_attribs),\n",
    "])\n",
    "### END SOLUTION\n",
    "\n",
    "#7. Apply the pipeline to the train set and save the results to housing_prepared\n",
    "### BEGIN SOLUTION\n",
    "housing_prepared = full_pipeline.fit_transform(housing)\n",
    "### END SOLUTION\n",
    "housing_prepared.shape"
   ]
  },
  {
   "cell_type": "code",
   "execution_count": 65,
   "metadata": {},
   "outputs": [
    {
     "data": {
      "text/html": [
       "<div>\n",
       "<style scoped>\n",
       "    .dataframe tbody tr th:only-of-type {\n",
       "        vertical-align: middle;\n",
       "    }\n",
       "\n",
       "    .dataframe tbody tr th {\n",
       "        vertical-align: top;\n",
       "    }\n",
       "\n",
       "    .dataframe thead th {\n",
       "        text-align: right;\n",
       "    }\n",
       "</style>\n",
       "<table border=\"1\" class=\"dataframe\">\n",
       "  <thead>\n",
       "    <tr style=\"text-align: right;\">\n",
       "      <th></th>\n",
       "      <th>0</th>\n",
       "      <th>1</th>\n",
       "      <th>2</th>\n",
       "      <th>3</th>\n",
       "      <th>4</th>\n",
       "      <th>5</th>\n",
       "      <th>6</th>\n",
       "      <th>7</th>\n",
       "      <th>8</th>\n",
       "      <th>9</th>\n",
       "      <th>10</th>\n",
       "      <th>11</th>\n",
       "      <th>12</th>\n",
       "      <th>13</th>\n",
       "      <th>14</th>\n",
       "      <th>15</th>\n",
       "      <th>labels</th>\n",
       "    </tr>\n",
       "  </thead>\n",
       "  <tbody>\n",
       "    <tr>\n",
       "      <th>0</th>\n",
       "      <td>1.221177</td>\n",
       "      <td>-1.338206</td>\n",
       "      <td>0.108704</td>\n",
       "      <td>-0.023151</td>\n",
       "      <td>0.274908</td>\n",
       "      <td>-0.300323</td>\n",
       "      <td>0.274120</td>\n",
       "      <td>-0.548471</td>\n",
       "      <td>-0.430742</td>\n",
       "      <td>-0.103751</td>\n",
       "      <td>0.613605</td>\n",
       "      <td>0.0</td>\n",
       "      <td>0.0</td>\n",
       "      <td>0.0</td>\n",
       "      <td>0.0</td>\n",
       "      <td>1.0</td>\n",
       "      <td>171700.0</td>\n",
       "    </tr>\n",
       "    <tr>\n",
       "      <th>1</th>\n",
       "      <td>0.132529</td>\n",
       "      <td>0.321500</td>\n",
       "      <td>1.222985</td>\n",
       "      <td>-0.278582</td>\n",
       "      <td>-0.550974</td>\n",
       "      <td>-0.583916</td>\n",
       "      <td>-0.432586</td>\n",
       "      <td>0.082032</td>\n",
       "      <td>0.232780</td>\n",
       "      <td>-0.061628</td>\n",
       "      <td>-0.999898</td>\n",
       "      <td>0.0</td>\n",
       "      <td>1.0</td>\n",
       "      <td>0.0</td>\n",
       "      <td>0.0</td>\n",
       "      <td>0.0</td>\n",
       "      <td>109000.0</td>\n",
       "    </tr>\n",
       "    <tr>\n",
       "      <th>2</th>\n",
       "      <td>0.746766</td>\n",
       "      <td>-0.851982</td>\n",
       "      <td>-0.607619</td>\n",
       "      <td>-0.670088</td>\n",
       "      <td>-0.616176</td>\n",
       "      <td>-0.781600</td>\n",
       "      <td>-0.623158</td>\n",
       "      <td>-0.292744</td>\n",
       "      <td>-0.347369</td>\n",
       "      <td>-0.074942</td>\n",
       "      <td>0.365385</td>\n",
       "      <td>1.0</td>\n",
       "      <td>0.0</td>\n",
       "      <td>0.0</td>\n",
       "      <td>0.0</td>\n",
       "      <td>0.0</td>\n",
       "      <td>237500.0</td>\n",
       "    </tr>\n",
       "  </tbody>\n",
       "</table>\n",
       "</div>"
      ],
      "text/plain": [
       "          0         1         2         3         4         5         6  \\\n",
       "0  1.221177 -1.338206  0.108704 -0.023151  0.274908 -0.300323  0.274120   \n",
       "1  0.132529  0.321500  1.222985 -0.278582 -0.550974 -0.583916 -0.432586   \n",
       "2  0.746766 -0.851982 -0.607619 -0.670088 -0.616176 -0.781600 -0.623158   \n",
       "\n",
       "          7         8         9        10   11   12   13   14   15    labels  \n",
       "0 -0.548471 -0.430742 -0.103751  0.613605  0.0  0.0  0.0  0.0  1.0  171700.0  \n",
       "1  0.082032  0.232780 -0.061628 -0.999898  0.0  1.0  0.0  0.0  0.0  109000.0  \n",
       "2 -0.292744 -0.347369 -0.074942  0.365385  1.0  0.0  0.0  0.0  0.0  237500.0  "
      ]
     },
     "execution_count": 65,
     "metadata": {},
     "output_type": "execute_result"
    }
   ],
   "source": [
    "df_train = pd.DataFrame(housing_prepared)\n",
    "df_train.set_index(housing.index, inplace=True)\n",
    "df_train[\"labels\"] = housing_labels\n",
    "df_train.to_csv(\"housing_train.csv\", index=False)\n",
    "\n",
    "df_train = pd.read_csv(\"housing_train.csv\")\n",
    "df_train.head(3)"
   ]
  },
  {
   "cell_type": "code",
   "execution_count": 66,
   "metadata": {},
   "outputs": [
    {
     "data": {
      "text/plain": [
       "(6812, 9)"
      ]
     },
     "execution_count": 66,
     "metadata": {},
     "output_type": "execute_result"
    },
    {
     "data": {
      "text/plain": [
       "(6812, 16)"
      ]
     },
     "execution_count": 66,
     "metadata": {},
     "output_type": "execute_result"
    },
    {
     "data": {
      "text/html": [
       "<div>\n",
       "<style scoped>\n",
       "    .dataframe tbody tr th:only-of-type {\n",
       "        vertical-align: middle;\n",
       "    }\n",
       "\n",
       "    .dataframe tbody tr th {\n",
       "        vertical-align: top;\n",
       "    }\n",
       "\n",
       "    .dataframe thead th {\n",
       "        text-align: right;\n",
       "    }\n",
       "</style>\n",
       "<table border=\"1\" class=\"dataframe\">\n",
       "  <thead>\n",
       "    <tr style=\"text-align: right;\">\n",
       "      <th></th>\n",
       "      <th>0</th>\n",
       "      <th>1</th>\n",
       "      <th>2</th>\n",
       "      <th>3</th>\n",
       "      <th>4</th>\n",
       "      <th>5</th>\n",
       "      <th>6</th>\n",
       "      <th>7</th>\n",
       "      <th>8</th>\n",
       "      <th>9</th>\n",
       "      <th>10</th>\n",
       "      <th>11</th>\n",
       "      <th>12</th>\n",
       "      <th>13</th>\n",
       "      <th>14</th>\n",
       "      <th>15</th>\n",
       "      <th>label</th>\n",
       "    </tr>\n",
       "  </thead>\n",
       "  <tbody>\n",
       "    <tr>\n",
       "      <th>0</th>\n",
       "      <td>1.081133</td>\n",
       "      <td>-0.718825</td>\n",
       "      <td>-0.764192</td>\n",
       "      <td>-0.734466</td>\n",
       "      <td>-0.761110</td>\n",
       "      <td>-0.699216</td>\n",
       "      <td>-0.689343</td>\n",
       "      <td>-0.774816</td>\n",
       "      <td>-0.530146</td>\n",
       "      <td>-0.376232</td>\n",
       "      <td>-0.043201</td>\n",
       "      <td>0.0</td>\n",
       "      <td>1.0</td>\n",
       "      <td>0.0</td>\n",
       "      <td>0.0</td>\n",
       "      <td>0.0</td>\n",
       "      <td>112500.0</td>\n",
       "    </tr>\n",
       "    <tr>\n",
       "      <th>1</th>\n",
       "      <td>1.210779</td>\n",
       "      <td>-1.357403</td>\n",
       "      <td>1.690681</td>\n",
       "      <td>-0.498984</td>\n",
       "      <td>-0.465692</td>\n",
       "      <td>-0.572127</td>\n",
       "      <td>-0.454240</td>\n",
       "      <td>-0.657075</td>\n",
       "      <td>-0.337051</td>\n",
       "      <td>-0.563437</td>\n",
       "      <td>0.101589</td>\n",
       "      <td>0.0</td>\n",
       "      <td>0.0</td>\n",
       "      <td>0.0</td>\n",
       "      <td>0.0</td>\n",
       "      <td>1.0</td>\n",
       "      <td>203200.0</td>\n",
       "    </tr>\n",
       "    <tr>\n",
       "      <th>2</th>\n",
       "      <td>0.597453</td>\n",
       "      <td>-0.798647</td>\n",
       "      <td>-0.764192</td>\n",
       "      <td>0.205227</td>\n",
       "      <td>0.883459</td>\n",
       "      <td>0.491019</td>\n",
       "      <td>0.608835</td>\n",
       "      <td>-0.619400</td>\n",
       "      <td>-0.600263</td>\n",
       "      <td>-0.154500</td>\n",
       "      <td>1.143806</td>\n",
       "      <td>1.0</td>\n",
       "      <td>0.0</td>\n",
       "      <td>0.0</td>\n",
       "      <td>0.0</td>\n",
       "      <td>0.0</td>\n",
       "      <td>212500.0</td>\n",
       "    </tr>\n",
       "  </tbody>\n",
       "</table>\n",
       "</div>"
      ],
      "text/plain": [
       "          0         1         2         3         4         5         6  \\\n",
       "0  1.081133 -0.718825 -0.764192 -0.734466 -0.761110 -0.699216 -0.689343   \n",
       "1  1.210779 -1.357403  1.690681 -0.498984 -0.465692 -0.572127 -0.454240   \n",
       "2  0.597453 -0.798647 -0.764192  0.205227  0.883459  0.491019  0.608835   \n",
       "\n",
       "          7         8         9        10   11   12   13   14   15     label  \n",
       "0 -0.774816 -0.530146 -0.376232 -0.043201  0.0  1.0  0.0  0.0  0.0  112500.0  \n",
       "1 -0.657075 -0.337051 -0.563437  0.101589  0.0  0.0  0.0  0.0  1.0  203200.0  \n",
       "2 -0.619400 -0.600263 -0.154500  1.143806  1.0  0.0  0.0  0.0  0.0  212500.0  "
      ]
     },
     "execution_count": 66,
     "metadata": {},
     "output_type": "execute_result"
    }
   ],
   "source": [
    "test_data = strat_test_set.drop(\"median_house_value\", axis=1)\n",
    "test_labels = strat_test_set[\"median_house_value\"].copy()\n",
    "test_data.shape\n",
    "transformed_test_data = full_pipeline.fit_transform(test_data)\n",
    "transformed_test_data.shape\n",
    "\n",
    "df_test = pd.DataFrame(transformed_test_data)\n",
    "df_test.set_index(strat_test_set.index, inplace=True)\n",
    "df_test[\"label\"] = test_labels\n",
    "df_test.to_csv(\"housing_test.csv\", index=False)\n",
    "\n",
    "df_test = pd.read_csv(\"housing_test.csv\")\n",
    "df_test.head(3)"
   ]
  }
 ],
 "metadata": {
  "celltoolbar": "Create Assignment",
  "kernelspec": {
   "display_name": "Python 3",
   "language": "python",
   "name": "python3"
  },
  "language_info": {
   "codemirror_mode": {
    "name": "ipython",
    "version": 3
   },
   "file_extension": ".py",
   "mimetype": "text/x-python",
   "name": "python",
   "nbconvert_exporter": "python",
   "pygments_lexer": "ipython3",
   "version": "3.7.4"
  }
 },
 "nbformat": 4,
 "nbformat_minor": 2
}
