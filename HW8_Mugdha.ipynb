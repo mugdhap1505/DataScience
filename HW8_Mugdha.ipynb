{
 "cells": [
  {
   "cell_type": "markdown",
   "metadata": {},
   "source": [
    "__Name : Mugdha Patil__\n",
    "CU ID : C18482939\n"
   ]
  },
  {
   "cell_type": "markdown",
   "metadata": {},
   "source": [
    "# CPSC6300-001 Applied Data Science - HW8¶\n",
    "\n"
   ]
  },
  {
   "cell_type": "markdown",
   "metadata": {},
   "source": [
    "# Part D. Basic Model Training (50 points)"
   ]
  },
  {
   "cell_type": "code",
   "execution_count": 1,
   "metadata": {},
   "outputs": [],
   "source": [
    "from IPython.core.interactiveshell import InteractiveShell\n",
    "InteractiveShell.ast_node_interactivity = \"all\"\n",
    "%matplotlib inline"
   ]
  },
  {
   "cell_type": "markdown",
   "metadata": {},
   "source": [
    "## 1. Load the train and test dataset (5 points)\n",
    "\n",
    "In Part C, you have save the test set and train set into two csv files. In this spart, you use the prepared data to train some models. Complete the following code to load the train data into X_train and y_train and the test data into X_test and y_test. Here X_xxx is a feature matrix and y_xxx will is a label vector."
   ]
  },
  {
   "cell_type": "code",
   "execution_count": 2,
   "metadata": {
    "nbgrader": {
     "grade": true,
     "grade_id": "cell-0e64ae641c5330da",
     "locked": false,
     "points": 5,
     "schema_version": 3,
     "solution": true,
     "task": false
    }
   },
   "outputs": [],
   "source": [
    "import numpy as np\n",
    "import pandas as pd\n",
    "### BEGIN SOLUTION\n",
    "\n",
    "from sklearn.model_selection import train_test_split\n",
    "import numpy as np\n",
    "import pandas as pd\n",
    "housing = pd.read_csv(\"housing.csv\")\n",
    "housing_train, housing_test = train_test_split(  housing, test_size=0.33, random_state=25)\n",
    "\n",
    "housing_train_new=housing_train.dropna()\n",
    "housing_test_new=housing_test.dropna()\n",
    "X_train = np.asanyarray(housing_train_new[['longitude','latitude','housing_median_age','total_rooms','total_bedrooms','population','households','median_income']])\n",
    "y_train = np.asanyarray(housing_train_new[['median_house_value']])\n",
    "X_test = np.asanyarray(housing_test_new[['longitude','latitude','housing_median_age','total_rooms','total_bedrooms','population','households','median_income']])\n",
    "y_test = np.asanyarray(housing_test_new[['median_house_value']])\n",
    "### END SOLUTION"
   ]
  },
  {
   "cell_type": "markdown",
   "metadata": {},
   "source": [
    "We use the following data struct to keep the model performance results."
   ]
  },
  {
   "cell_type": "code",
   "execution_count": 3,
   "metadata": {},
   "outputs": [],
   "source": [
    "models = [\"LinearRegression\", \n",
    "          \"DecisionTree\", \n",
    "          \"RandomForest-Default\", \n",
    "          \"RandomForest-Custom\",\n",
    "          \"SupportVectorMachine\"\n",
    "         ]\n",
    "train_rmses = {}\n",
    "test_rmses = {}\n"
   ]
  },
  {
   "cell_type": "markdown",
   "metadata": {},
   "source": [
    "## 2. Train a Linear Regression Model (10 points)"
   ]
  },
  {
   "cell_type": "markdown",
   "metadata": {},
   "source": [
    "a. Write some code to train a linear regression model, save your model to a variable __model__. (4 points)"
   ]
  },
  {
   "cell_type": "code",
   "execution_count": 4,
   "metadata": {
    "nbgrader": {
     "grade": true,
     "grade_id": "cell-d59f485915e74b09",
     "locked": false,
     "points": 4,
     "schema_version": 3,
     "solution": true,
     "task": false
    }
   },
   "outputs": [
    {
     "data": {
      "text/plain": [
       "LinearRegression(copy_X=True, fit_intercept=True, n_jobs=None, normalize=False)"
      ]
     },
     "execution_count": 4,
     "metadata": {},
     "output_type": "execute_result"
    },
    {
     "data": {
      "text/plain": [
       "(array([-3617737.39849217]),\n",
       " array([[-4.31883782e+04, -4.30354173e+04,  1.12191262e+03,\n",
       "         -7.69654967e+00,  1.07209135e+02, -4.11249612e+01,\n",
       "          5.74566865e+01,  3.98005493e+04]]))"
      ]
     },
     "execution_count": 4,
     "metadata": {},
     "output_type": "execute_result"
    }
   ],
   "source": [
    "### BEGIN SOLUTION\n",
    "from sklearn import linear_model\n",
    "model = linear_model.LinearRegression()\n",
    "model.fit (X_train, y_train)\n",
    "\n",
    "\n",
    "### END SOLUTION\n",
    "model.intercept_, model.coef_"
   ]
  },
  {
   "cell_type": "markdown",
   "metadata": {
    "nbgrader": {
     "grade": true,
     "grade_id": "cell-f2234aa6772a8207",
     "locked": false,
     "points": 4,
     "schema_version": 3,
     "solution": true,
     "task": false
    }
   },
   "source": [
    "b. Write some code to compute the __RMSE__ measure for the training data. You may try the __mean_squared_error__ method in the __sklearn.metrics__ library. (4 points)"
   ]
  },
  {
   "cell_type": "code",
   "execution_count": 5,
   "metadata": {},
   "outputs": [
    {
     "data": {
      "text/plain": [
       "69640.02071165173"
      ]
     },
     "execution_count": 5,
     "metadata": {},
     "output_type": "execute_result"
    }
   ],
   "source": [
    "### BEGIN SOLUTION\n",
    "from sklearn.metrics import mean_squared_error\n",
    "y_train_hat = model.predict(X_train)\n",
    "mse = mean_squared_error(y_train, y_train_hat)\n",
    "train_rmse=np.sqrt(((y_train_hat - y_train) ** 2).mean())\n",
    "train_rmse\n",
    "train_rmses[\"LinearRegression\"] = train_rmse\n",
    "\n",
    "### END SOLUTION\n"
   ]
  },
  {
   "cell_type": "markdown",
   "metadata": {},
   "source": [
    "c. Write some code to compute the __RMSE__ measure for the test data. (2 points)"
   ]
  },
  {
   "cell_type": "code",
   "execution_count": 6,
   "metadata": {
    "nbgrader": {
     "grade": true,
     "grade_id": "cell-9dc7cb07a896e61a",
     "locked": false,
     "points": 2,
     "schema_version": 3,
     "solution": true,
     "task": false
    }
   },
   "outputs": [
    {
     "data": {
      "text/plain": [
       "69437.9945780289"
      ]
     },
     "execution_count": 6,
     "metadata": {},
     "output_type": "execute_result"
    }
   ],
   "source": [
    "### BEGIN SOLUTION\n",
    "y_test_hat = model.predict(X_test)\n",
    "test_rmse=np.sqrt(((y_test_hat - y_test) ** 2).mean())\n",
    "test_rmses[\"LinearRegression\"] = test_rmse\n",
    "\n",
    "\n",
    "### END SOLUTION\n",
    "test_rmse\n"
   ]
  },
  {
   "cell_type": "markdown",
   "metadata": {},
   "source": [
    "## 3. Train a DecisionTreeRegressor Model (5 points)"
   ]
  },
  {
   "cell_type": "markdown",
   "metadata": {},
   "source": [
    "Write some code to train a DecisionTreeRegressor model. Then apply your model to compute the __RSME__ for both training data and test data. (5 points)"
   ]
  },
  {
   "cell_type": "code",
   "execution_count": 7,
   "metadata": {
    "nbgrader": {
     "grade": true,
     "grade_id": "cell-bc7ced34c00985e9",
     "locked": false,
     "points": 5,
     "schema_version": 3,
     "solution": true,
     "task": false
    }
   },
   "outputs": [
    {
     "data": {
      "text/plain": [
       "DecisionTreeRegressor(criterion='mse', max_depth=None, max_features=None,\n",
       "                      max_leaf_nodes=None, min_impurity_decrease=0.0,\n",
       "                      min_impurity_split=None, min_samples_leaf=1,\n",
       "                      min_samples_split=2, min_weight_fraction_leaf=0.0,\n",
       "                      presort=False, random_state=0, splitter='best')"
      ]
     },
     "execution_count": 7,
     "metadata": {},
     "output_type": "execute_result"
    },
    {
     "data": {
      "text/plain": [
       "0.0"
      ]
     },
     "execution_count": 7,
     "metadata": {},
     "output_type": "execute_result"
    },
    {
     "data": {
      "text/plain": [
       "68689.47529583641"
      ]
     },
     "execution_count": 7,
     "metadata": {},
     "output_type": "execute_result"
    }
   ],
   "source": [
    "### BEGIN SOLUTION\n",
    "from sklearn.tree import DecisionTreeRegressor  \n",
    "  \n",
    "\n",
    "regressor = DecisionTreeRegressor(random_state = 0)  \n",
    "  \n",
    "\n",
    "regressor.fit(X_train, y_train)\n",
    "\n",
    "y_train_hat = regressor.predict(X_train)\n",
    "y_test_hat = regressor.predict(X_test)\n",
    "\n",
    "mse = mean_squared_error(y_train, y_train_hat)\n",
    "\n",
    "train_rmse=np.sqrt(mean_squared_error(y_train, y_train_hat))\n",
    "test_rmse=np.sqrt(mean_squared_error(y_test, y_test_hat))\n",
    "\n",
    "\n",
    "\n",
    "### END SOLUTION\n",
    "train_rmses[\"DecisionTree\"], test_rmses[\"DecisionTree\"] = train_rmse, test_rmse\n",
    "train_rmse\n",
    "test_rmse"
   ]
  },
  {
   "cell_type": "markdown",
   "metadata": {},
   "source": [
    "## 4. Train a RandomForestRegressor Model (10 points)"
   ]
  },
  {
   "cell_type": "markdown",
   "metadata": {},
   "source": [
    "a. Write some code to train a Random Forest Regressor Regressor (__RandomForestRegressor__ in sklearn.ensemble). Then apply your model to compute the __RSME__ for both training data and test data. (5 points)"
   ]
  },
  {
   "cell_type": "code",
   "execution_count": 8,
   "metadata": {
    "nbgrader": {
     "grade": true,
     "grade_id": "cell-b1d49ea6f9c123cc",
     "locked": false,
     "points": 5,
     "schema_version": 3,
     "solution": true,
     "task": false
    }
   },
   "outputs": [
    {
     "data": {
      "text/plain": [
       "RandomForestRegressor(bootstrap=True, criterion='mse', max_depth=None,\n",
       "                      max_features='auto', max_leaf_nodes=None,\n",
       "                      min_impurity_decrease=0.0, min_impurity_split=None,\n",
       "                      min_samples_leaf=1, min_samples_split=2,\n",
       "                      min_weight_fraction_leaf=0.0, n_estimators=100,\n",
       "                      n_jobs=None, oob_score=False, random_state=0, verbose=0,\n",
       "                      warm_start=False)"
      ]
     },
     "execution_count": 8,
     "metadata": {},
     "output_type": "execute_result"
    }
   ],
   "source": [
    "### BEGIN SOLUTION\n",
    "from sklearn.ensemble import RandomForestRegressor \n",
    "  \n",
    "regressor = RandomForestRegressor(n_estimators = 100, random_state = 0) \n",
    "  \n",
    "regressor.fit(X_train, y_train.ravel())\n",
    "\n",
    "y_train_hat = regressor.predict(X_train)\n",
    "y_test_hat = regressor.predict(X_test)\n",
    "\n",
    "mse = mean_squared_error(y_train, y_train_hat)\n",
    "\n",
    "train_rmse=np.sqrt(mean_squared_error(y_train, y_train_hat))\n",
    "test_rmse=np.sqrt(mean_squared_error(y_test, y_test_hat))\n",
    "\n",
    "\n",
    "\n",
    "### END SOLUTION\n",
    "train_rmses[\"RandomForest-Default\"], test_rmses[\"RandomForest-Default\"] = train_rmse, test_rmse"
   ]
  },
  {
   "cell_type": "markdown",
   "metadata": {},
   "source": [
    "b. Repeat step a but now use the following hyperparameters for the RandomForestRegressor model.\n",
    "```\n",
    "max_features=8\n",
    "n_estimates=100\n",
    "```\n",
    "(5 points)"
   ]
  },
  {
   "cell_type": "code",
   "execution_count": 11,
   "metadata": {
    "nbgrader": {
     "grade": true,
     "grade_id": "cell-bf00e69faff2346a",
     "locked": false,
     "points": 5,
     "schema_version": 3,
     "solution": true,
     "task": false
    }
   },
   "outputs": [
    {
     "data": {
      "text/plain": [
       "RandomForestRegressor(bootstrap=True, criterion='mse', max_depth=None,\n",
       "                      max_features=8, max_leaf_nodes=None,\n",
       "                      min_impurity_decrease=0.0, min_impurity_split=None,\n",
       "                      min_samples_leaf=1, min_samples_split=2,\n",
       "                      min_weight_fraction_leaf=0.0, n_estimators=100,\n",
       "                      n_jobs=None, oob_score=False, random_state=0, verbose=0,\n",
       "                      warm_start=False)"
      ]
     },
     "execution_count": 11,
     "metadata": {},
     "output_type": "execute_result"
    },
    {
     "data": {
      "text/plain": [
       "18983.6384865349"
      ]
     },
     "execution_count": 11,
     "metadata": {},
     "output_type": "execute_result"
    },
    {
     "data": {
      "text/plain": [
       "49385.83101601866"
      ]
     },
     "execution_count": 11,
     "metadata": {},
     "output_type": "execute_result"
    }
   ],
   "source": [
    "### BEGIN SOLUTION\n",
    "\n",
    "from sklearn.ensemble import RandomForestRegressor \n",
    "  \n",
    "regressor = RandomForestRegressor(max_features=8, n_estimators = 100, random_state = 0) \n",
    "  \n",
    "regressor.fit(X_train, y_train.ravel())\n",
    "\n",
    "y_train_hat = regressor.predict(X_train)\n",
    "y_test_hat = regressor.predict(X_test)\n",
    "\n",
    "mse = mean_squared_error(y_train, y_train_hat)\n",
    "\n",
    "train_rmse=np.sqrt(mean_squared_error(y_train, y_train_hat))\n",
    "test_rmse=np.sqrt(mean_squared_error(y_test, y_test_hat))\n",
    "                  \n",
    "### END SOLUTION\n",
    "train_rmses[\"RandomForest-Custom\"], test_rmses[\"RandomForest-Custom\"] = train_rmse, test_rmse\n",
    "train_rmse\n",
    "test_rmse"
   ]
  },
  {
   "cell_type": "markdown",
   "metadata": {},
   "source": [
    "## 5. Train a Support Vector Machine Regressor (5 points)\n",
    "\n",
    "Write some code to train a Support Vector Machine Regressor (__SVR__ in sklearn.svm). Then apply your model to compute the  __RSME__ for both training data and test data. (5 points)"
   ]
  },
  {
   "cell_type": "code",
   "execution_count": 12,
   "metadata": {
    "nbgrader": {
     "grade": true,
     "grade_id": "cell-2d65f1f161eeca1c",
     "locked": false,
     "points": 5,
     "schema_version": 3,
     "solution": true,
     "task": false
    }
   },
   "outputs": [
    {
     "data": {
      "text/plain": [
       "SVR(C=1.0, cache_size=200, coef0=0.0, degree=3, epsilon=0.1,\n",
       "    gamma='auto_deprecated', kernel='linear', max_iter=-1, shrinking=True,\n",
       "    tol=0.001, verbose=False)"
      ]
     },
     "execution_count": 12,
     "metadata": {},
     "output_type": "execute_result"
    },
    {
     "data": {
      "text/plain": [
       "95734.34600122794"
      ]
     },
     "execution_count": 12,
     "metadata": {},
     "output_type": "execute_result"
    },
    {
     "data": {
      "text/plain": [
       "96382.44785990981"
      ]
     },
     "execution_count": 12,
     "metadata": {},
     "output_type": "execute_result"
    }
   ],
   "source": [
    "### BEGIN SOLUTION\n",
    "from sklearn.svm import SVR\n",
    "regressor = SVR(kernel='linear')\n",
    "regressor.fit(X_train, y_train.ravel())\n",
    "y_train_hat = regressor.predict(X_train)\n",
    "y_test_hat = regressor.predict(X_test)\n",
    "\n",
    "mse = mean_squared_error(y_train, y_train_hat)\n",
    "\n",
    "train_rmse=np.sqrt(mean_squared_error(y_train, y_train_hat))\n",
    "test_rmse=np.sqrt(mean_squared_error(y_test, y_test_hat))\n",
    "\n",
    "### END SOLUTION\n",
    "train_rmses[\"SupportVectorMachine\"], test_rmses[\"SupportVectorMachine\"] = train_rmse, test_rmse\n",
    "train_rmse\n",
    "test_rmse"
   ]
  },
  {
   "cell_type": "markdown",
   "metadata": {},
   "source": [
    "## 6. Summary the above results into a table. (5 points)"
   ]
  },
  {
   "cell_type": "markdown",
   "metadata": {},
   "source": [
    "a. Put teh performance results into a DataFrame variable __perf."
   ]
  },
  {
   "cell_type": "code",
   "execution_count": 13,
   "metadata": {},
   "outputs": [
    {
     "data": {
      "text/html": [
       "<div>\n",
       "<style scoped>\n",
       "    .dataframe tbody tr th:only-of-type {\n",
       "        vertical-align: middle;\n",
       "    }\n",
       "\n",
       "    .dataframe tbody tr th {\n",
       "        vertical-align: top;\n",
       "    }\n",
       "\n",
       "    .dataframe thead th {\n",
       "        text-align: right;\n",
       "    }\n",
       "</style>\n",
       "<table border=\"1\" class=\"dataframe\">\n",
       "  <thead>\n",
       "    <tr style=\"text-align: right;\">\n",
       "      <th></th>\n",
       "      <th>model</th>\n",
       "      <th>Train.RMSE</th>\n",
       "      <th>Test.RMSE</th>\n",
       "    </tr>\n",
       "  </thead>\n",
       "  <tbody>\n",
       "    <tr>\n",
       "      <th>0</th>\n",
       "      <td>LinearRegression</td>\n",
       "      <td>69640.020712</td>\n",
       "      <td>69437.994578</td>\n",
       "    </tr>\n",
       "    <tr>\n",
       "      <th>1</th>\n",
       "      <td>DecisionTree</td>\n",
       "      <td>0.000000</td>\n",
       "      <td>68689.475296</td>\n",
       "    </tr>\n",
       "    <tr>\n",
       "      <th>2</th>\n",
       "      <td>RandomForest-Default</td>\n",
       "      <td>18983.638487</td>\n",
       "      <td>49385.831016</td>\n",
       "    </tr>\n",
       "    <tr>\n",
       "      <th>3</th>\n",
       "      <td>RandomForest-Custom</td>\n",
       "      <td>18983.638487</td>\n",
       "      <td>49385.831016</td>\n",
       "    </tr>\n",
       "    <tr>\n",
       "      <th>4</th>\n",
       "      <td>SupportVectorMachine</td>\n",
       "      <td>95734.346001</td>\n",
       "      <td>96382.447860</td>\n",
       "    </tr>\n",
       "  </tbody>\n",
       "</table>\n",
       "</div>"
      ],
      "text/plain": [
       "                  model    Train.RMSE     Test.RMSE\n",
       "0      LinearRegression  69640.020712  69437.994578\n",
       "1          DecisionTree      0.000000  68689.475296\n",
       "2  RandomForest-Default  18983.638487  49385.831016\n",
       "3   RandomForest-Custom  18983.638487  49385.831016\n",
       "4  SupportVectorMachine  95734.346001  96382.447860"
      ]
     },
     "execution_count": 13,
     "metadata": {},
     "output_type": "execute_result"
    }
   ],
   "source": [
    "perf = pd.DataFrame({\"model\": models})\n",
    "perf[\"Train.RMSE\"] = train_rmses.values()\n",
    "perf[\"Test.RMSE\"] = test_rmses.values()\n",
    "perf"
   ]
  },
  {
   "cell_type": "markdown",
   "metadata": {},
   "source": [
    "b. Among these models, which ones are susceptible to underfitting? "
   ]
  },
  {
   "cell_type": "markdown",
   "metadata": {
    "nbgrader": {
     "grade": true,
     "grade_id": "cell-079a0b79de55ba0f",
     "locked": false,
     "points": 2,
     "schema_version": 3,
     "solution": true,
     "task": false
    }
   },
   "source": [
    "Decision Tree is susceptible to underfitting\n"
   ]
  },
  {
   "cell_type": "markdown",
   "metadata": {},
   "source": [
    "c. Which models are susceptible to overfitting? "
   ]
  },
  {
   "cell_type": "markdown",
   "metadata": {
    "nbgrader": {
     "grade": true,
     "grade_id": "cell-14be5229334d343e",
     "locked": false,
     "points": 2,
     "schema_version": 3,
     "solution": true,
     "task": false
    }
   },
   "source": [
    "Multivariable Regression is susceptible to overfitting.\n"
   ]
  },
  {
   "cell_type": "markdown",
   "metadata": {},
   "source": [
    "d. The DecisionTreeRegression is the best model for this dataset because it leads to the zero RMSE numbers. Is this statement True of False? "
   ]
  },
  {
   "cell_type": "markdown",
   "metadata": {
    "nbgrader": {
     "grade": true,
     "grade_id": "cell-27270211becb5fa4",
     "locked": false,
     "points": 1,
     "schema_version": 3,
     "solution": true,
     "task": false
    }
   },
   "source": [
    "The statement \"DecisionTreeRegression is the best model for this dataset because it leads to the zero RMSE numbers\" is  false, as it t is a completely overfitting model."
   ]
  },
  {
   "cell_type": "markdown",
   "metadata": {},
   "source": [
    "## 7. Observations and Lessons (10 points)\n",
    "\n",
    "Write down three things you have observed or learned through this assignments."
   ]
  },
  {
   "cell_type": "markdown",
   "metadata": {},
   "source": [
    "Write your first observation/lesson below. (3 points)"
   ]
  },
  {
   "cell_type": "markdown",
   "metadata": {
    "nbgrader": {
     "grade": true,
     "grade_id": "cell-226b232e10487053",
     "locked": false,
     "points": 3,
     "schema_version": 3,
     "solution": true,
     "task": false
    }
   },
   "source": [
    "__1. Exposure to Machine Learning algorithms__\n",
    "Learned different algorithms like Linear regression model, DecisionTree Regressor, Random Forest Regressor, support vector regression.\n"
   ]
  },
  {
   "cell_type": "markdown",
   "metadata": {},
   "source": [
    "Write your second observation/lesson below. (3 points)"
   ]
  },
  {
   "cell_type": "markdown",
   "metadata": {
    "nbgrader": {
     "grade": true,
     "grade_id": "cell-e2a6357f6ef6a359",
     "locked": false,
     "points": 3,
     "schema_version": 3,
     "solution": true,
     "task": false
    }
   },
   "source": [
    "__2.Data visualization__\n",
    "Learned libraries like seaborn, matplotlib. Also, understood the significance of different plots like scatterplot, distplot, pyplot, matplot"
   ]
  },
  {
   "cell_type": "markdown",
   "metadata": {},
   "source": [
    "Write your third observation/lesson below. (4 points)"
   ]
  },
  {
   "cell_type": "markdown",
   "metadata": {
    "nbgrader": {
     "grade": true,
     "grade_id": "cell-b756a88fb032849f",
     "locked": false,
     "points": 4,
     "schema_version": 3,
     "solution": true,
     "task": false
    }
   },
   "source": [
    "__3. Data Transformation__\n",
    "Practiced different data transformation techniques like standardized scale method, central limit theorem.\n",
    "Used pipelining technique for the whole data transformation at one place\n"
   ]
  },
  {
   "cell_type": "code",
   "execution_count": null,
   "metadata": {},
   "outputs": [],
   "source": []
  }
 ],
 "metadata": {
  "celltoolbar": "Create Assignment",
  "kernelspec": {
   "display_name": "Python 3",
   "language": "python",
   "name": "python3"
  },
  "language_info": {
   "codemirror_mode": {
    "name": "ipython",
    "version": 3
   },
   "file_extension": ".py",
   "mimetype": "text/x-python",
   "name": "python",
   "nbconvert_exporter": "python",
   "pygments_lexer": "ipython3",
   "version": "3.7.4"
  }
 },
 "nbformat": 4,
 "nbformat_minor": 2
}
